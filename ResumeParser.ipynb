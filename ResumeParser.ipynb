{
  "nbformat": 4,
  "nbformat_minor": 0,
  "metadata": {
    "colab": {
      "provenance": [],
      "authorship_tag": "ABX9TyOjQppLNHkfUno2qsgX8PX5",
      "include_colab_link": true
    },
    "kernelspec": {
      "name": "python3",
      "display_name": "Python 3"
    },
    "language_info": {
      "name": "python"
    }
  },
  "cells": [
    {
      "cell_type": "markdown",
      "metadata": {
        "id": "view-in-github",
        "colab_type": "text"
      },
      "source": [
        "<a href=\"https://colab.research.google.com/github/Afra-Fathima/SCH/blob/main/ResumeParser.ipynb\" target=\"_parent\"><img src=\"https://colab.research.google.com/assets/colab-badge.svg\" alt=\"Open In Colab\"/></a>"
      ]
    },
    {
      "cell_type": "code",
      "execution_count": 1,
      "metadata": {
        "colab": {
          "base_uri": "https://localhost:8080/",
          "height": 125
        },
        "id": "d5RaTezSGVce",
        "outputId": "cae038d3-1ca2-4c75-f0cf-58e153c21637"
      },
      "outputs": [
        {
          "output_type": "stream",
          "name": "stdout",
          "text": [
            "Welcome to the Resume Analyzer App!\n",
            "Please upload your resume file:\n"
          ]
        },
        {
          "output_type": "display_data",
          "data": {
            "text/plain": [
              "<IPython.core.display.HTML object>"
            ],
            "text/html": [
              "\n",
              "     <input type=\"file\" id=\"files-e6b3c092-fb56-4b99-841f-91b6528cecbc\" name=\"files[]\" multiple disabled\n",
              "        style=\"border:none\" />\n",
              "     <output id=\"result-e6b3c092-fb56-4b99-841f-91b6528cecbc\">\n",
              "      Upload widget is only available when the cell has been executed in the\n",
              "      current browser session. Please rerun this cell to enable.\n",
              "      </output>\n",
              "      <script>// Copyright 2017 Google LLC\n",
              "//\n",
              "// Licensed under the Apache License, Version 2.0 (the \"License\");\n",
              "// you may not use this file except in compliance with the License.\n",
              "// You may obtain a copy of the License at\n",
              "//\n",
              "//      http://www.apache.org/licenses/LICENSE-2.0\n",
              "//\n",
              "// Unless required by applicable law or agreed to in writing, software\n",
              "// distributed under the License is distributed on an \"AS IS\" BASIS,\n",
              "// WITHOUT WARRANTIES OR CONDITIONS OF ANY KIND, either express or implied.\n",
              "// See the License for the specific language governing permissions and\n",
              "// limitations under the License.\n",
              "\n",
              "/**\n",
              " * @fileoverview Helpers for google.colab Python module.\n",
              " */\n",
              "(function(scope) {\n",
              "function span(text, styleAttributes = {}) {\n",
              "  const element = document.createElement('span');\n",
              "  element.textContent = text;\n",
              "  for (const key of Object.keys(styleAttributes)) {\n",
              "    element.style[key] = styleAttributes[key];\n",
              "  }\n",
              "  return element;\n",
              "}\n",
              "\n",
              "// Max number of bytes which will be uploaded at a time.\n",
              "const MAX_PAYLOAD_SIZE = 100 * 1024;\n",
              "\n",
              "function _uploadFiles(inputId, outputId) {\n",
              "  const steps = uploadFilesStep(inputId, outputId);\n",
              "  const outputElement = document.getElementById(outputId);\n",
              "  // Cache steps on the outputElement to make it available for the next call\n",
              "  // to uploadFilesContinue from Python.\n",
              "  outputElement.steps = steps;\n",
              "\n",
              "  return _uploadFilesContinue(outputId);\n",
              "}\n",
              "\n",
              "// This is roughly an async generator (not supported in the browser yet),\n",
              "// where there are multiple asynchronous steps and the Python side is going\n",
              "// to poll for completion of each step.\n",
              "// This uses a Promise to block the python side on completion of each step,\n",
              "// then passes the result of the previous step as the input to the next step.\n",
              "function _uploadFilesContinue(outputId) {\n",
              "  const outputElement = document.getElementById(outputId);\n",
              "  const steps = outputElement.steps;\n",
              "\n",
              "  const next = steps.next(outputElement.lastPromiseValue);\n",
              "  return Promise.resolve(next.value.promise).then((value) => {\n",
              "    // Cache the last promise value to make it available to the next\n",
              "    // step of the generator.\n",
              "    outputElement.lastPromiseValue = value;\n",
              "    return next.value.response;\n",
              "  });\n",
              "}\n",
              "\n",
              "/**\n",
              " * Generator function which is called between each async step of the upload\n",
              " * process.\n",
              " * @param {string} inputId Element ID of the input file picker element.\n",
              " * @param {string} outputId Element ID of the output display.\n",
              " * @return {!Iterable<!Object>} Iterable of next steps.\n",
              " */\n",
              "function* uploadFilesStep(inputId, outputId) {\n",
              "  const inputElement = document.getElementById(inputId);\n",
              "  inputElement.disabled = false;\n",
              "\n",
              "  const outputElement = document.getElementById(outputId);\n",
              "  outputElement.innerHTML = '';\n",
              "\n",
              "  const pickedPromise = new Promise((resolve) => {\n",
              "    inputElement.addEventListener('change', (e) => {\n",
              "      resolve(e.target.files);\n",
              "    });\n",
              "  });\n",
              "\n",
              "  const cancel = document.createElement('button');\n",
              "  inputElement.parentElement.appendChild(cancel);\n",
              "  cancel.textContent = 'Cancel upload';\n",
              "  const cancelPromise = new Promise((resolve) => {\n",
              "    cancel.onclick = () => {\n",
              "      resolve(null);\n",
              "    };\n",
              "  });\n",
              "\n",
              "  // Wait for the user to pick the files.\n",
              "  const files = yield {\n",
              "    promise: Promise.race([pickedPromise, cancelPromise]),\n",
              "    response: {\n",
              "      action: 'starting',\n",
              "    }\n",
              "  };\n",
              "\n",
              "  cancel.remove();\n",
              "\n",
              "  // Disable the input element since further picks are not allowed.\n",
              "  inputElement.disabled = true;\n",
              "\n",
              "  if (!files) {\n",
              "    return {\n",
              "      response: {\n",
              "        action: 'complete',\n",
              "      }\n",
              "    };\n",
              "  }\n",
              "\n",
              "  for (const file of files) {\n",
              "    const li = document.createElement('li');\n",
              "    li.append(span(file.name, {fontWeight: 'bold'}));\n",
              "    li.append(span(\n",
              "        `(${file.type || 'n/a'}) - ${file.size} bytes, ` +\n",
              "        `last modified: ${\n",
              "            file.lastModifiedDate ? file.lastModifiedDate.toLocaleDateString() :\n",
              "                                    'n/a'} - `));\n",
              "    const percent = span('0% done');\n",
              "    li.appendChild(percent);\n",
              "\n",
              "    outputElement.appendChild(li);\n",
              "\n",
              "    const fileDataPromise = new Promise((resolve) => {\n",
              "      const reader = new FileReader();\n",
              "      reader.onload = (e) => {\n",
              "        resolve(e.target.result);\n",
              "      };\n",
              "      reader.readAsArrayBuffer(file);\n",
              "    });\n",
              "    // Wait for the data to be ready.\n",
              "    let fileData = yield {\n",
              "      promise: fileDataPromise,\n",
              "      response: {\n",
              "        action: 'continue',\n",
              "      }\n",
              "    };\n",
              "\n",
              "    // Use a chunked sending to avoid message size limits. See b/62115660.\n",
              "    let position = 0;\n",
              "    do {\n",
              "      const length = Math.min(fileData.byteLength - position, MAX_PAYLOAD_SIZE);\n",
              "      const chunk = new Uint8Array(fileData, position, length);\n",
              "      position += length;\n",
              "\n",
              "      const base64 = btoa(String.fromCharCode.apply(null, chunk));\n",
              "      yield {\n",
              "        response: {\n",
              "          action: 'append',\n",
              "          file: file.name,\n",
              "          data: base64,\n",
              "        },\n",
              "      };\n",
              "\n",
              "      let percentDone = fileData.byteLength === 0 ?\n",
              "          100 :\n",
              "          Math.round((position / fileData.byteLength) * 100);\n",
              "      percent.textContent = `${percentDone}% done`;\n",
              "\n",
              "    } while (position < fileData.byteLength);\n",
              "  }\n",
              "\n",
              "  // All done.\n",
              "  yield {\n",
              "    response: {\n",
              "      action: 'complete',\n",
              "    }\n",
              "  };\n",
              "}\n",
              "\n",
              "scope.google = scope.google || {};\n",
              "scope.google.colab = scope.google.colab || {};\n",
              "scope.google.colab._files = {\n",
              "  _uploadFiles,\n",
              "  _uploadFilesContinue,\n",
              "};\n",
              "})(self);\n",
              "</script> "
            ]
          },
          "metadata": {}
        },
        {
          "output_type": "stream",
          "name": "stdout",
          "text": [
            "Saving AFRA FATHIMA M A - resume (1).docx to AFRA FATHIMA M A - resume (1).docx\n"
          ]
        }
      ],
      "source": [
        "from google.colab import files\n",
        "\n",
        "print(\"Welcome to the Resume Analyzer App!\")\n",
        "print(\"Please upload your resume file:\")\n",
        "uploaded = files.upload()\n"
      ]
    },
    {
      "cell_type": "code",
      "source": [
        "# Install python-docx library\n",
        "!pip install python-docx\n",
        "\n",
        "# Import the necessary library\n",
        "from docx import Document\n",
        "import io\n",
        "\n",
        "# Read the uploaded resume file as binary\n",
        "resume_content_binary = None\n",
        "for filename in uploaded.keys():\n",
        "    resume_content_binary = uploaded[filename]\n",
        "    break  # Exit loop after reading the first file\n",
        "\n",
        "# Try decoding the binary content with various encodings\n",
        "encodings_to_try = [\"utf-8\", \"latin-1\", \"ISO-8859-1\", \"windows-1252\"]  # Add more encodings if needed\n",
        "\n",
        "resume_content = None\n",
        "for encoding in encodings_to_try:\n",
        "    try:\n",
        "        # Decode binary content using the encoding\n",
        "        decoded_content = resume_content_binary.decode(encoding)\n",
        "\n",
        "        # Convert decoded content to bytes\n",
        "        decoded_content_bytes = decoded_content.encode()\n",
        "\n",
        "        # If the content starts with the DOCX magic number, it's a DOCX file\n",
        "        if decoded_content_bytes.startswith(b'\\x50\\x4b\\x03\\x04'):  # Magic number for DOCX files\n",
        "            # Create a Document object from the binary content\n",
        "            doc = Document(io.BytesIO(resume_content_binary))\n",
        "\n",
        "            # Extract text from paragraphs in the document\n",
        "            resume_content = \"\\n\".join([paragraph.text for paragraph in doc.paragraphs])\n",
        "        else:\n",
        "            # If the content is not a DOCX file, treat it as plain text\n",
        "            resume_content = decoded_content\n",
        "\n",
        "        break  # Exit loop if decoding is successful\n",
        "    except UnicodeDecodeError:\n",
        "        continue  # Try the next encoding if decoding fails\n",
        "\n",
        "if resume_content is None:\n",
        "    print(\"Error: Unable to decode the file.\")\n",
        "else:\n",
        "    print(\"\\nResume content:\")\n",
        "    print(resume_content)\n"
      ],
      "metadata": {
        "colab": {
          "base_uri": "https://localhost:8080/"
        },
        "id": "g4XMEchvGgzt",
        "outputId": "aee7ae2e-4bc3-44a1-e786-b3c91ddaa186"
      },
      "execution_count": 2,
      "outputs": [
        {
          "output_type": "stream",
          "name": "stdout",
          "text": [
            "Collecting python-docx\n",
            "  Downloading python_docx-1.1.0-py3-none-any.whl (239 kB)\n",
            "\u001b[?25l     \u001b[90m━━━━━━━━━━━━━━━━━━━━━━━━━━━━━━━━━━━━━━━━\u001b[0m \u001b[32m0.0/239.6 kB\u001b[0m \u001b[31m?\u001b[0m eta \u001b[36m-:--:--\u001b[0m\r\u001b[2K     \u001b[91m━━━━━━━━━━━━━━━━━━━━━━━━━━━━━━━━━━━━━━━\u001b[0m\u001b[90m╺\u001b[0m \u001b[32m235.5/239.6 kB\u001b[0m \u001b[31m7.3 MB/s\u001b[0m eta \u001b[36m0:00:01\u001b[0m\r\u001b[2K     \u001b[90m━━━━━━━━━━━━━━━━━━━━━━━━━━━━━━━━━━━━━━━━\u001b[0m \u001b[32m239.6/239.6 kB\u001b[0m \u001b[31m5.9 MB/s\u001b[0m eta \u001b[36m0:00:00\u001b[0m\n",
            "\u001b[?25hRequirement already satisfied: lxml>=3.1.0 in /usr/local/lib/python3.10/dist-packages (from python-docx) (4.9.4)\n",
            "Requirement already satisfied: typing-extensions in /usr/local/lib/python3.10/dist-packages (from python-docx) (4.11.0)\n",
            "Installing collected packages: python-docx\n",
            "Successfully installed python-docx-1.1.0\n",
            "\n",
            "Resume content:\n",
            "AFRA FATHIMA M A\n",
            "+91 6381354230 ⋄ Chennai, India\n",
            "afrafathima2508@gmail.com ⋄ linkedin.com/in/afra-fathima-m-a-/ ⋄ github.com/Afra-Fathima\n",
            "OBJECTIVE\n",
            "III Year Computer Science Engineering student, seeking a challenging internship opportunity to learn, apply and enhance my skills in software development, problem-solving, and innovative thinking,  while contributing effectively to the dynamic projects of a forward-thinking organization.\n",
            "\n",
            "Technical  Skills\tFront end development (HTML, CSS, Java Script, Flutter), AI, RPA.\n",
            "Programming Language\tJava, C.\n",
            "Additional  Skills\tPrompt Engineering, Canva, Microsoft Word and Microsoft PowerPoint\n",
            "Soft  Skills\tCommunication, Time Management, Leadership, Event Organizing, Creative, Versatile.\n",
            "\n",
            "EXPERIENCE\n",
            "INFINITE COMPUTER SOLUTIONS (Intern) Knowing Software Engineering and Soft Skills June 2023 CODEBIND TECHNOLOGIES (Intern) Web Development Basics\t\tJan 2023 SMARTKNOWER (Intern) Cybersecurity\tSept - Oct 2022\n",
            "VOLUNTEERING\n",
            "GLOBAL  YOUTH  DEVELOPMENT  AND  EMPOWERMENT  COUNCIL  Head Council\n",
            "June 2023 - Present\n",
            "I led diverse tasks such as interviews, event coordination, idea generation, team management, donation drives, and recruitment via LinkedIn, Championed social impact initiatives, fostering community engagement.\n",
            "INSTITUTE OF ELECTRICAL AND ELECTRONICS ENGINEERS Member and Event Organizer\n",
            "Sept 2022 - Dec 2023\n",
            "As an active member, I have consistently participated in all events while also taking on roles in coordinating and organizing various activities..\n",
            "\n",
            "CERTIFICATION\n",
            "RPA Developer Foundation\t22nd Jan 2024\n",
            "Futureskills NASSCOM\n",
            "Data science for the Beginners\t21st Dec 2023\n",
            "Futureskills NASSCOM\n",
            "Artificial Intelligence for Real-World Application\t28th Feb 2023 TCS ION\n",
            "\n",
            "PAPER PRESENTATIONS\n",
            "IOT  based  Alerting  System  for  the  Differentially  Abled\t14th July 2023 DRDO Sponsored National Conference on Cyber Security NCCS ’23 - SRM University\n",
            "Image  Steganography  for  transmitting  confidential  messages\t28th April 2023 International Conference on Intelligent Computing(IConIC) PECTEAM 2k23 - Panimalar Engineering College\n",
            "\n",
            "PROJECTS\n",
            "IOT based Alerting System for the Differentially Abled Developed an innovative IoT smart device tailored to enhance security and quality of life for individuals with physical disabilities. The device, comprising a compact button and NodeMCU esp8266 microcontroller, seamlessly connects with an Android application. During emergencies, users trigger alerts via the device, activating the NodeMCU esp8266 to promptly notify caregivers through the companion Android app.\n",
            "Cyber Security Key concepts: Foot printing using WHOIS / NETCRAFT / SHODAN / DNSDUMPSTER, SQL injection using HAVIJ tool, Desktop Phishing, Scanning using N-map tool, Testing system security using Metaspoilt, SET tool to create fake webpage, Social phish tool from GitHub to do Phishing, SQL injection, Cracking password using Ophcrack tool, note on Recent Cyber Attack.\n",
            "Rainfall  prediction  system    Developed  a  Rainfall  Prediction  System  leveraging  AI  algorithms  during  the  TCS ION certification course ’Artificial Intelligence for Real-World Application.’ Utilized a comprehensive dataset to train predictive models, enabling accurate forecasting of rainfall patterns.\n",
            "Hand Cricket Game using Python Python script for a hand cricket game between the user and the computer, featuring a toss, batting, bowling, and innings. Players input values between 1 and 6 to score runs or take wickets until one side wins.\n",
            "\n",
            "INDUSTRIAL VISIT\n",
            "\n",
            "Basics  of  Computer  Networking - NetworkGeek\t5th Aug 2023\n",
            "\n",
            "WORKSHOPS\n",
            "\n",
            "AI and ML in Biomedical applications - IIT Madras\t27th-28th Jan 2024\n",
            "Data  Science - Chennai Institute of Technology\t19th Sept 2023\n",
            "UI/UX Design - College of Engineering, Guindy\t\t25th March 2023 Cryptography and Steganography Tools - Panimalar Engineering College\t10th - 12th Nov 2022 How Hackers Really Hack 2.0 - VIT Chennai\t\t\t19th Sept 2022\n",
            "EXTRA-CURRICULAR ACTIVITIES AND HOBBIES\n",
            "Painting and Art\tSwimmming\n",
            "Mobile Video Editing\tPublic Speaking and Presentation Reading Books and Journaling\tGardening\n",
            "\n",
            "LANGUAGES\n",
            "English\tTamil\n",
            "Hindi\tArabic\n"
          ]
        }
      ]
    },
    {
      "cell_type": "code",
      "source": [
        "# Ask for the job role\n",
        "job_role = input(\"Enter the job role you are hiring for: \")\n",
        "print(\"Job role:\", job_role)\n"
      ],
      "metadata": {
        "colab": {
          "base_uri": "https://localhost:8080/"
        },
        "id": "_CYwi-rNGsMF",
        "outputId": "b0d4b4c0-5672-4dbd-8d18-bbdc9730920e"
      },
      "execution_count": 3,
      "outputs": [
        {
          "output_type": "stream",
          "name": "stdout",
          "text": [
            "Enter the job role you are hiring for: data science\n",
            "Job role: data science\n"
          ]
        }
      ]
    },
    {
      "cell_type": "code",
      "source": [
        "# Define a list of keywords relevant to the job role\n",
        "job_keywords = [\"data\", \"science\", \"machine\", \"AI\", \"python\", \"java\", \"analysis\"]\n",
        "\n",
        "# Count the number of keyword matches in the resume\n",
        "score = sum(resume_content.lower().count(keyword) for keyword in job_keywords)\n",
        "print(\"Score based on keyword matching:\", score)\n",
        "\n"
      ],
      "metadata": {
        "colab": {
          "base_uri": "https://localhost:8080/"
        },
        "id": "AZEBBVPqGv0j",
        "outputId": "ed808c26-2a01-4b23-f232-57be7957197a"
      },
      "execution_count": 4,
      "outputs": [
        {
          "output_type": "stream",
          "name": "stdout",
          "text": [
            "Score based on keyword matching: 10\n"
          ]
        }
      ]
    },
    {
      "cell_type": "code",
      "source": [
        "# Define a threshold score\n",
        "threshold_score = 3\n",
        "\n",
        "# Decision Making\n",
        "if score >= threshold_score:\n",
        "    decision = \"This candidate is a suitable fit for the job role.\"\n",
        "else:\n",
        "    decision = \"This candidate is not a suitable fit for the job role.\"\n",
        "\n",
        "# Output\n",
        "print(\"\\nScoring Summary:\")\n",
        "print(\"Decision:\", decision)\n"
      ],
      "metadata": {
        "colab": {
          "base_uri": "https://localhost:8080/"
        },
        "id": "-kc9daJmGz1b",
        "outputId": "c3b17b59-6187-486d-e81d-1df358178cab"
      },
      "execution_count": 5,
      "outputs": [
        {
          "output_type": "stream",
          "name": "stdout",
          "text": [
            "\n",
            "Scoring Summary:\n",
            "Decision: This candidate is a suitable fit for the job role.\n"
          ]
        }
      ]
    }
  ]
}